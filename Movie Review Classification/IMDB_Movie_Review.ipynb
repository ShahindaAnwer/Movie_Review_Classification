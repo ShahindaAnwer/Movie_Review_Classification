{
  "cells": [
    {
      "cell_type": "code",
      "execution_count": null,
      "metadata": {
        "id": "Ps2urgN2nICc"
      },
      "outputs": [],
      "source": [
        "import pandas as pd\n",
        "import numpy as np\n",
        "import tensorflow as tf\n",
        "import seaborn as sns\n",
        "from tensorflow import keras\n",
        "from keras.datasets import imdb\n",
        "from keras.layers import Activation, GRU, Dense, Flatten, GlobalMaxPooling1D, Embedding\n",
        "from tensorflow.keras import regularizers\n",
        "from keras.models import Sequential\n",
        "from keras.utils import pad_sequences\n",
        "from keras.preprocessing.text import one_hot, Tokenizer\n",
        "import re\n",
        "import nltk\n",
        "from nltk.corpus import stopwords\n",
        "from sklearn.model_selection import train_test_split"
      ]
    },
    {
      "cell_type": "code",
      "execution_count": null,
      "metadata": {
        "colab": {
          "base_uri": "https://localhost:8080/",
          "height": 206
        },
        "id": "izxcj9sZkoGf",
        "outputId": "ee0c16d3-2ed4-42ff-eb71-36ea9e14bca2"
      },
      "outputs": [
        {
          "output_type": "execute_result",
          "data": {
            "text/plain": [
              "                                              review sentiment\n",
              "0  One of the other reviewers has mentioned that ...  positive\n",
              "1  A wonderful little production. <br /><br />The...  positive\n",
              "2  I thought this was a wonderful way to spend ti...  positive\n",
              "3  Basically there's a family where a little boy ...  negative\n",
              "4  Petter Mattei's \"Love in the Time of Money\" is...  positive"
            ],
            "text/html": [
              "\n",
              "  <div id=\"df-bac8280d-c615-4d23-acd9-c7a548d2252b\">\n",
              "    <div class=\"colab-df-container\">\n",
              "      <div>\n",
              "<style scoped>\n",
              "    .dataframe tbody tr th:only-of-type {\n",
              "        vertical-align: middle;\n",
              "    }\n",
              "\n",
              "    .dataframe tbody tr th {\n",
              "        vertical-align: top;\n",
              "    }\n",
              "\n",
              "    .dataframe thead th {\n",
              "        text-align: right;\n",
              "    }\n",
              "</style>\n",
              "<table border=\"1\" class=\"dataframe\">\n",
              "  <thead>\n",
              "    <tr style=\"text-align: right;\">\n",
              "      <th></th>\n",
              "      <th>review</th>\n",
              "      <th>sentiment</th>\n",
              "    </tr>\n",
              "  </thead>\n",
              "  <tbody>\n",
              "    <tr>\n",
              "      <th>0</th>\n",
              "      <td>One of the other reviewers has mentioned that ...</td>\n",
              "      <td>positive</td>\n",
              "    </tr>\n",
              "    <tr>\n",
              "      <th>1</th>\n",
              "      <td>A wonderful little production. &lt;br /&gt;&lt;br /&gt;The...</td>\n",
              "      <td>positive</td>\n",
              "    </tr>\n",
              "    <tr>\n",
              "      <th>2</th>\n",
              "      <td>I thought this was a wonderful way to spend ti...</td>\n",
              "      <td>positive</td>\n",
              "    </tr>\n",
              "    <tr>\n",
              "      <th>3</th>\n",
              "      <td>Basically there's a family where a little boy ...</td>\n",
              "      <td>negative</td>\n",
              "    </tr>\n",
              "    <tr>\n",
              "      <th>4</th>\n",
              "      <td>Petter Mattei's \"Love in the Time of Money\" is...</td>\n",
              "      <td>positive</td>\n",
              "    </tr>\n",
              "  </tbody>\n",
              "</table>\n",
              "</div>\n",
              "      <button class=\"colab-df-convert\" onclick=\"convertToInteractive('df-bac8280d-c615-4d23-acd9-c7a548d2252b')\"\n",
              "              title=\"Convert this dataframe to an interactive table.\"\n",
              "              style=\"display:none;\">\n",
              "        \n",
              "  <svg xmlns=\"http://www.w3.org/2000/svg\" height=\"24px\"viewBox=\"0 0 24 24\"\n",
              "       width=\"24px\">\n",
              "    <path d=\"M0 0h24v24H0V0z\" fill=\"none\"/>\n",
              "    <path d=\"M18.56 5.44l.94 2.06.94-2.06 2.06-.94-2.06-.94-.94-2.06-.94 2.06-2.06.94zm-11 1L8.5 8.5l.94-2.06 2.06-.94-2.06-.94L8.5 2.5l-.94 2.06-2.06.94zm10 10l.94 2.06.94-2.06 2.06-.94-2.06-.94-.94-2.06-.94 2.06-2.06.94z\"/><path d=\"M17.41 7.96l-1.37-1.37c-.4-.4-.92-.59-1.43-.59-.52 0-1.04.2-1.43.59L10.3 9.45l-7.72 7.72c-.78.78-.78 2.05 0 2.83L4 21.41c.39.39.9.59 1.41.59.51 0 1.02-.2 1.41-.59l7.78-7.78 2.81-2.81c.8-.78.8-2.07 0-2.86zM5.41 20L4 18.59l7.72-7.72 1.47 1.35L5.41 20z\"/>\n",
              "  </svg>\n",
              "      </button>\n",
              "      \n",
              "  <style>\n",
              "    .colab-df-container {\n",
              "      display:flex;\n",
              "      flex-wrap:wrap;\n",
              "      gap: 12px;\n",
              "    }\n",
              "\n",
              "    .colab-df-convert {\n",
              "      background-color: #E8F0FE;\n",
              "      border: none;\n",
              "      border-radius: 50%;\n",
              "      cursor: pointer;\n",
              "      display: none;\n",
              "      fill: #1967D2;\n",
              "      height: 32px;\n",
              "      padding: 0 0 0 0;\n",
              "      width: 32px;\n",
              "    }\n",
              "\n",
              "    .colab-df-convert:hover {\n",
              "      background-color: #E2EBFA;\n",
              "      box-shadow: 0px 1px 2px rgba(60, 64, 67, 0.3), 0px 1px 3px 1px rgba(60, 64, 67, 0.15);\n",
              "      fill: #174EA6;\n",
              "    }\n",
              "\n",
              "    [theme=dark] .colab-df-convert {\n",
              "      background-color: #3B4455;\n",
              "      fill: #D2E3FC;\n",
              "    }\n",
              "\n",
              "    [theme=dark] .colab-df-convert:hover {\n",
              "      background-color: #434B5C;\n",
              "      box-shadow: 0px 1px 3px 1px rgba(0, 0, 0, 0.15);\n",
              "      filter: drop-shadow(0px 1px 2px rgba(0, 0, 0, 0.3));\n",
              "      fill: #FFFFFF;\n",
              "    }\n",
              "  </style>\n",
              "\n",
              "      <script>\n",
              "        const buttonEl =\n",
              "          document.querySelector('#df-bac8280d-c615-4d23-acd9-c7a548d2252b button.colab-df-convert');\n",
              "        buttonEl.style.display =\n",
              "          google.colab.kernel.accessAllowed ? 'block' : 'none';\n",
              "\n",
              "        async function convertToInteractive(key) {\n",
              "          const element = document.querySelector('#df-bac8280d-c615-4d23-acd9-c7a548d2252b');\n",
              "          const dataTable =\n",
              "            await google.colab.kernel.invokeFunction('convertToInteractive',\n",
              "                                                     [key], {});\n",
              "          if (!dataTable) return;\n",
              "\n",
              "          const docLinkHtml = 'Like what you see? Visit the ' +\n",
              "            '<a target=\"_blank\" href=https://colab.research.google.com/notebooks/data_table.ipynb>data table notebook</a>'\n",
              "            + ' to learn more about interactive tables.';\n",
              "          element.innerHTML = '';\n",
              "          dataTable['output_type'] = 'display_data';\n",
              "          await google.colab.output.renderOutput(dataTable, element);\n",
              "          const docLink = document.createElement('div');\n",
              "          docLink.innerHTML = docLinkHtml;\n",
              "          element.appendChild(docLink);\n",
              "        }\n",
              "      </script>\n",
              "    </div>\n",
              "  </div>\n",
              "  "
            ]
          },
          "metadata": {},
          "execution_count": 4
        }
      ],
      "source": [
        "data = pd.read_csv('/content/IMDB Dataset.csv', engine = 'python')\n",
        "\n",
        "data.head()"
      ]
    },
    {
      "cell_type": "code",
      "execution_count": null,
      "metadata": {
        "colab": {
          "base_uri": "https://localhost:8080/"
        },
        "id": "zCcei4_I_z3P",
        "outputId": "27309152-aef2-4710-81e2-8f0d7368a988"
      },
      "outputs": [
        {
          "output_type": "execute_result",
          "data": {
            "text/plain": [
              "review       0\n",
              "sentiment    0\n",
              "dtype: int64"
            ]
          },
          "metadata": {},
          "execution_count": 5
        }
      ],
      "source": [
        "data.isnull().sum()"
      ]
    },
    {
      "cell_type": "code",
      "execution_count": null,
      "metadata": {
        "colab": {
          "base_uri": "https://localhost:8080/"
        },
        "id": "grMHP4gZleCj",
        "outputId": "e1cad43b-e11a-42d0-bd54-efa49b8abf0e"
      },
      "outputs": [
        {
          "output_type": "execute_result",
          "data": {
            "text/plain": [
              "(50000, 2)"
            ]
          },
          "metadata": {},
          "execution_count": 6
        }
      ],
      "source": [
        "data.shape"
      ]
    },
    {
      "cell_type": "markdown",
      "metadata": {
        "id": "M8Qp0prOA49E"
      },
      "source": [
        "#**Data Analysis**"
      ]
    },
    {
      "cell_type": "code",
      "execution_count": null,
      "metadata": {
        "colab": {
          "base_uri": "https://localhost:8080/",
          "height": 296
        },
        "id": "yT0CsDdWA75I",
        "outputId": "d221a4d5-961a-4a1e-a154-8dd068ccfa2b"
      },
      "outputs": [
        {
          "output_type": "execute_result",
          "data": {
            "text/plain": [
              "<Axes: xlabel='sentiment', ylabel='count'>"
            ]
          },
          "metadata": {},
          "execution_count": 7
        },
        {
          "output_type": "display_data",
          "data": {
            "text/plain": [
              "<Figure size 432x288 with 1 Axes>"
            ],
            "image/png": "[encoded data removed]"
          },
          "metadata": {
            "needs_background": "light"
          }
        }
      ],
      "source": [
        "sns.countplot(x = data['sentiment'])"
      ]
    },
    {
      "cell_type": "markdown",
      "metadata": {
        "id": "dqy7tS1OABtu"
      },
      "source": [
        "#**Data Preprocessing**"
      ]
    },
    {
      "cell_type": "code",
      "execution_count": null,
      "metadata": {
        "id": "mCzjtYEbDqvL"
      },
      "outputs": [],
      "source": [
        "# normalize data\n",
        "\n",
        "tag = re.compile(r'<[^>]+>')\n",
        "def remove_tags(text):\n",
        "  return tag.sub('', text)\n",
        "\n",
        "def clean(s):\n",
        "  sentence = remove_tags(s)\n",
        "\n",
        "  #case normalization \n",
        "  sentence = sentence.lower()\n",
        "\n",
        "  # remove unicode letters and punctuation\n",
        "  sentence = re.sub(r\"(@\\[A-Za-z0-9]+)|([^0-9A-Za-z \\t])|(\\w+:\\/\\/\\S+)|^rt|http.+?\", \"\", sentence)\n",
        "  sentence = re.sub(r\"\\s+[^a-zA-Z]\\s+\", '', sentence)\n",
        "\n",
        "  return sentence"
      ]
    },
    {
      "cell_type": "code",
      "execution_count": null,
      "metadata": {
        "id": "r6C9ZUjQKZgl"
      },
      "outputs": [],
      "source": [
        "review = []\n",
        "sentences = list(data['review'])\n",
        "for s in sentences:\n",
        "  review.append(clean(s))"
      ]
    },
    {
      "cell_type": "code",
      "execution_count": null,
      "metadata": {
        "colab": {
          "base_uri": "https://localhost:8080/",
          "height": 123
        },
        "id": "oyzdh3NG__ns",
        "outputId": "223340ff-51f4-4e39-a821-a50e9277ac14"
      },
      "outputs": [
        {
          "output_type": "execute_result",
          "data": {
            "text/plain": [
              "'A wonderful little production. <br /><br />The filming technique is very unassuming- very old-time-BBC fashion and gives a comforting, and sometimes discomforting, sense of realism to the entire piece. <br /><br />The actors are extremely well chosen- Michael Sheen not only \"has got all the polari\" but he has all the voices down pat too! You can truly see the seamless editing guided by the references to Williams\\' diary entries, not only is it well worth the watching but it is a terrificly written and performed piece. A masterful production about one of the great master\\'s of comedy and his life. <br /><br />The realism really comes home with the little things: the fantasy of the guard which, rather than use the traditional \\'dream\\' techniques remains solid then disappears. It plays on our knowledge and our senses, particularly with the scenes concerning Orton and Halliwell and the sets (particularly of their flat with Halliwell\\'s murals decorating every surface) are terribly well done.'"
            ],
            "application/vnd.google.colaboratory.intrinsic+json": {
              "type": "string"
            }
          },
          "metadata": {},
          "execution_count": 10
        }
      ],
      "source": [
        "data['review'][1]"
      ]
    },
    {
      "cell_type": "code",
      "execution_count": null,
      "metadata": {
        "colab": {
          "base_uri": "https://localhost:8080/",
          "height": 122
        },
        "id": "IQ_LANjGLKB4",
        "outputId": "5df22a44-7ba7-4b42-d2f6-de03b2c3f15c"
      },
      "outputs": [
        {
          "output_type": "execute_result",
          "data": {
            "text/plain": [
              "'a wonderful little production the filming technique is very unassuming very oldtimebbc fashion and gives a comforting and sometimes discomforting sense of realism to the entire piece the actors are extremely well chosen michael sheen not only has got all the polari but he has all the voices down pat too you can truly see the seamless editing guided by the references to williams diary entries not only is it well worth the watching but it is a terrificly written and performed piece a masterful production about one of the great masters of comedy and his life the realism really comes home with the little things the fantasy of the guard which rather than use the traditional dream techniques remains solid then disappears it plays on our knowledge and our senses particularly with the scenes concerning orton and halliwell and the sets particularly of their flat with halliwells murals decorating every surface are terribly well done'"
            ],
            "application/vnd.google.colaboratory.intrinsic+json": {
              "type": "string"
            }
          },
          "metadata": {},
          "execution_count": 11
        }
      ],
      "source": [
        "review[1]"
      ]
    },
    {
      "cell_type": "code",
      "execution_count": null,
      "metadata": {
        "id": "AcaJDji07fto"
      },
      "outputs": [],
      "source": [
        "data['review'] = review"
      ]
    },
    {
      "cell_type": "code",
      "execution_count": null,
      "metadata": {
        "colab": {
          "base_uri": "https://localhost:8080/"
        },
        "id": "jeUxf8YAy2r_",
        "outputId": "b55af86b-f4ab-4432-86cd-06275fba4d4f"
      },
      "outputs": [
        {
          "output_type": "execute_result",
          "data": {
            "text/plain": [
              "0        positive\n",
              "1        positive\n",
              "2        positive\n",
              "3        negative\n",
              "4        positive\n",
              "           ...   \n",
              "49995    positive\n",
              "49996    negative\n",
              "49997    negative\n",
              "49998    negative\n",
              "49999    negative\n",
              "Name: sentiment, Length: 50000, dtype: object"
            ]
          },
          "metadata": {},
          "execution_count": 13
        }
      ],
      "source": [
        "data['sentiment']"
      ]
    },
    {
      "cell_type": "code",
      "execution_count": null,
      "metadata": {
        "colab": {
          "base_uri": "https://localhost:8080/"
        },
        "id": "pP7hs029LUB7",
        "outputId": "60e30c53-12cc-4c5f-b3a8-fe88650f390e"
      },
      "outputs": [
        {
          "output_type": "execute_result",
          "data": {
            "text/plain": [
              "0        1\n",
              "1        1\n",
              "2        1\n",
              "3        0\n",
              "4        1\n",
              "        ..\n",
              "49995    1\n",
              "49996    0\n",
              "49997    0\n",
              "49998    0\n",
              "49999    0\n",
              "Name: sentiment, Length: 50000, dtype: int64"
            ]
          },
          "metadata": {},
          "execution_count": 14
        }
      ],
      "source": [
        "# encode labels\n",
        "data['sentiment'] = np.array(list(map(lambda x: 0 if  x=='negative' else 1, data['sentiment'])))\n",
        "data['sentiment']"
      ]
    },
    {
      "cell_type": "markdown",
      "metadata": {
        "id": "QIj2XswDzrZw"
      },
      "source": [
        "**Sentiments:**\n",
        "\n",
        "Negative: 0\n",
        "\n",
        "Positive: 1"
      ]
    },
    {
      "cell_type": "code",
      "execution_count": null,
      "metadata": {
        "colab": {
          "base_uri": "https://localhost:8080/",
          "height": 206
        },
        "id": "uWjHQAtg7Sxm",
        "outputId": "9ade5a2f-abc3-4462-c946-2864c5b0af24"
      },
      "outputs": [
        {
          "output_type": "execute_result",
          "data": {
            "text/plain": [
              "                                              review  sentiment\n",
              "0  one of the other reviewers has mentioned that ...          1\n",
              "1  a wonderful little production the filming tech...          1\n",
              "2  i thought this was a wonderful way to spend ti...          1\n",
              "3  basically theres a family where a little boy j...          0\n",
              "4  petter matteis love in the time of money is a ...          1"
            ],
            "text/html": [
              "\n",
              "  <div id=\"df-8ef8e89b-caaf-456d-a3d0-100bcbaf39e9\">\n",
              "    <div class=\"colab-df-container\">\n",
              "      <div>\n",
              "<style scoped>\n",
              "    .dataframe tbody tr th:only-of-type {\n",
              "        vertical-align: middle;\n",
              "    }\n",
              "\n",
              "    .dataframe tbody tr th {\n",
              "        vertical-align: top;\n",
              "    }\n",
              "\n",
              "    .dataframe thead th {\n",
              "        text-align: right;\n",
              "    }\n",
              "</style>\n",
              "<table border=\"1\" class=\"dataframe\">\n",
              "  <thead>\n",
              "    <tr style=\"text-align: right;\">\n",
              "      <th></th>\n",
              "      <th>review</th>\n",
              "      <th>sentiment</th>\n",
              "    </tr>\n",
              "  </thead>\n",
              "  <tbody>\n",
              "    <tr>\n",
              "      <th>0</th>\n",
              "      <td>one of the other reviewers has mentioned that ...</td>\n",
              "      <td>1</td>\n",
              "    </tr>\n",
              "    <tr>\n",
              "      <th>1</th>\n",
              "      <td>a wonderful little production the filming tech...</td>\n",
              "      <td>1</td>\n",
              "    </tr>\n",
              "    <tr>\n",
              "      <th>2</th>\n",
              "      <td>i thought this was a wonderful way to spend ti...</td>\n",
              "      <td>1</td>\n",
              "    </tr>\n",
              "    <tr>\n",
              "      <th>3</th>\n",
              "      <td>basically theres a family where a little boy j...</td>\n",
              "      <td>0</td>\n",
              "    </tr>\n",
              "    <tr>\n",
              "      <th>4</th>\n",
              "      <td>petter matteis love in the time of money is a ...</td>\n",
              "      <td>1</td>\n",
              "    </tr>\n",
              "  </tbody>\n",
              "</table>\n",
              "</div>\n",
              "      <button class=\"colab-df-convert\" onclick=\"convertToInteractive('df-8ef8e89b-caaf-456d-a3d0-100bcbaf39e9')\"\n",
              "              title=\"Convert this dataframe to an interactive table.\"\n",
              "              style=\"display:none;\">\n",
              "        \n",
              "  <svg xmlns=\"http://www.w3.org/2000/svg\" height=\"24px\"viewBox=\"0 0 24 24\"\n",
              "       width=\"24px\">\n",
              "    <path d=\"M0 0h24v24H0V0z\" fill=\"none\"/>\n",
              "    <path d=\"M18.56 5.44l.94 2.06.94-2.06 2.06-.94-2.06-.94-.94-2.06-.94 2.06-2.06.94zm-11 1L8.5 8.5l.94-2.06 2.06-.94-2.06-.94L8.5 2.5l-.94 2.06-2.06.94zm10 10l.94 2.06.94-2.06 2.06-.94-2.06-.94-.94-2.06-.94 2.06-2.06.94z\"/><path d=\"M17.41 7.96l-1.37-1.37c-.4-.4-.92-.59-1.43-.59-.52 0-1.04.2-1.43.59L10.3 9.45l-7.72 7.72c-.78.78-.78 2.05 0 2.83L4 21.41c.39.39.9.59 1.41.59.51 0 1.02-.2 1.41-.59l7.78-7.78 2.81-2.81c.8-.78.8-2.07 0-2.86zM5.41 20L4 18.59l7.72-7.72 1.47 1.35L5.41 20z\"/>\n",
              "  </svg>\n",
              "      </button>\n",
              "      \n",
              "  <style>\n",
              "    .colab-df-container {\n",
              "      display:flex;\n",
              "      flex-wrap:wrap;\n",
              "      gap: 12px;\n",
              "    }\n",
              "\n",
              "    .colab-df-convert {\n",
              "      background-color: #E8F0FE;\n",
              "      border: none;\n",
              "      border-radius: 50%;\n",
              "      cursor: pointer;\n",
              "      display: none;\n",
              "      fill: #1967D2;\n",
              "      height: 32px;\n",
              "      padding: 0 0 0 0;\n",
              "      width: 32px;\n",
              "    }\n",
              "\n",
              "    .colab-df-convert:hover {\n",
              "      background-color: #E2EBFA;\n",
              "      box-shadow: 0px 1px 2px rgba(60, 64, 67, 0.3), 0px 1px 3px 1px rgba(60, 64, 67, 0.15);\n",
              "      fill: #174EA6;\n",
              "    }\n",
              "\n",
              "    [theme=dark] .colab-df-convert {\n",
              "      background-color: #3B4455;\n",
              "      fill: #D2E3FC;\n",
              "    }\n",
              "\n",
              "    [theme=dark] .colab-df-convert:hover {\n",
              "      background-color: #434B5C;\n",
              "      box-shadow: 0px 1px 3px 1px rgba(0, 0, 0, 0.15);\n",
              "      filter: drop-shadow(0px 1px 2px rgba(0, 0, 0, 0.3));\n",
              "      fill: #FFFFFF;\n",
              "    }\n",
              "  </style>\n",
              "\n",
              "      <script>\n",
              "        const buttonEl =\n",
              "          document.querySelector('#df-8ef8e89b-caaf-456d-a3d0-100bcbaf39e9 button.colab-df-convert');\n",
              "        buttonEl.style.display =\n",
              "          google.colab.kernel.accessAllowed ? 'block' : 'none';\n",
              "\n",
              "        async function convertToInteractive(key) {\n",
              "          const element = document.querySelector('#df-8ef8e89b-caaf-456d-a3d0-100bcbaf39e9');\n",
              "          const dataTable =\n",
              "            await google.colab.kernel.invokeFunction('convertToInteractive',\n",
              "                                                     [key], {});\n",
              "          if (!dataTable) return;\n",
              "\n",
              "          const docLinkHtml = 'Like what you see? Visit the ' +\n",
              "            '<a target=\"_blank\" href=https://colab.research.google.com/notebooks/data_table.ipynb>data table notebook</a>'\n",
              "            + ' to learn more about interactive tables.';\n",
              "          element.innerHTML = '';\n",
              "          dataTable['output_type'] = 'display_data';\n",
              "          await google.colab.output.renderOutput(dataTable, element);\n",
              "          const docLink = document.createElement('div');\n",
              "          docLink.innerHTML = docLinkHtml;\n",
              "          element.appendChild(docLink);\n",
              "        }\n",
              "      </script>\n",
              "    </div>\n",
              "  </div>\n",
              "  "
            ]
          },
          "metadata": {},
          "execution_count": 15
        }
      ],
      "source": [
        "data.head()"
      ]
    },
    {
      "cell_type": "code",
      "execution_count": null,
      "metadata": {
        "id": "8Sy9HUX9zZkx"
      },
      "outputs": [],
      "source": [
        "# split data\n",
        "xtrain, xtest, ytrain, ytest = train_test_split(data['review'], data['sentiment'], test_size = 0.2, random_state = 0)"
      ]
    },
    {
      "cell_type": "code",
      "execution_count": null,
      "metadata": {
        "colab": {
          "base_uri": "https://localhost:8080/"
        },
        "id": "vo3G2SNu8Aq9",
        "outputId": "72f5068d-3815-49e3-9721-f84e3d6d1669"
      },
      "outputs": [
        {
          "output_type": "execute_result",
          "data": {
            "text/plain": [
              "20330    thats about the only redeeming quality in a mo...\n",
              "17532    even if i had not read anne rices queen of the...\n",
              "45819    i sort of liked this columbo movie its atmosph...\n",
              "34807    zabriskie point 1970 this was especially inter...\n",
              "31888    quite one of the worst films i have ever seen ...\n",
              "                               ...                        \n",
              "21243    i did not set very high expectations for this ...\n",
              "45891    the blob is a great horror movie not merely be...\n",
              "42613    after too many years of waiting anne rivers si...\n",
              "43567    i am a massive fan of the log i thought the fi...\n",
              "2732     ag was an excellent presentation of drama susp...\n",
              "Name: review, Length: 40000, dtype: object"
            ]
          },
          "metadata": {},
          "execution_count": 17
        }
      ],
      "source": [
        "xtrain"
      ]
    },
    {
      "cell_type": "code",
      "execution_count": null,
      "metadata": {
        "id": "kcYYfC_a8Ohi"
      },
      "outputs": [],
      "source": [
        "# tokenize data\n",
        "tokenizer = Tokenizer(num_words = 5000)\n",
        "tokenizer.fit_on_texts(xtrain)\n",
        "\n",
        "\n",
        "xtrain = tokenizer.texts_to_sequences(xtrain)\n",
        "xtest_tok = tokenizer.texts_to_sequences(xtest)"
      ]
    },
    {
      "cell_type": "markdown",
      "metadata": {
        "id": "O6o1HoBcA7x5"
      },
      "source": [
        "tokenizer creates a word-to-index dictionary, where each word (key) is given its unique index (value)"
      ]
    },
    {
      "cell_type": "code",
      "execution_count": null,
      "metadata": {
        "colab": {
          "base_uri": "https://localhost:8080/"
        },
        "id": "M1_JRGjUDK1U",
        "outputId": "38bc29e4-198f-49fd-a6d7-a69a79be129a"
      },
      "outputs": [
        {
          "output_type": "execute_result",
          "data": {
            "text/plain": [
              "(198902,\n",
              " {'the': 1,\n",
              "  'and': 2,\n",
              "  'a': 3,\n",
              "  'of': 4,\n",
              "  'to': 5,\n",
              "  'is': 6,\n",
              "  'in': 7,\n",
              "  'it': 8,\n",
              "  'this': 9,\n",
              "  'i': 10,\n",
              "  'that': 11,\n",
              "  'was': 12,\n",
              "  'as': 13,\n",
              "  'with': 14,\n",
              "  'for': 15,\n",
              "  'movie': 16,\n",
              "  'but': 17,\n",
              "  'film': 18,\n",
              "  'on': 19,\n",
              "  'not': 20,\n",
              "  'you': 21,\n",
              "  'are': 22,\n",
              "  'his': 23,\n",
              "  'have': 24,\n",
              "  'be': 25,\n",
              "  'he': 26,\n",
              "  'one': 27,\n",
              "  'its': 28,\n",
              "  'at': 29,\n",
              "  'all': 30,\n",
              "  'by': 31,\n",
              "  'an': 32,\n",
              "  'they': 33,\n",
              "  'who': 34,\n",
              "  'from': 35,\n",
              "  'like': 36,\n",
              "  'so': 37,\n",
              "  'or': 38,\n",
              "  'just': 39,\n",
              "  'her': 40,\n",
              "  'about': 41,\n",
              "  'has': 42,\n",
              "  'if': 43,\n",
              "  'out': 44,\n",
              "  'some': 45,\n",
              "  'what': 46,\n",
              "  'there': 47,\n",
              "  'good': 48,\n",
              "  'very': 49,\n",
              "  'more': 50,\n",
              "  'when': 51,\n",
              "  'even': 52,\n",
              "  'up': 53,\n",
              "  'no': 54,\n",
              "  'my': 55,\n",
              "  'would': 56,\n",
              "  'she': 57,\n",
              "  'time': 58,\n",
              "  'which': 59,\n",
              "  'really': 60,\n",
              "  'only': 61,\n",
              "  'their': 62,\n",
              "  'see': 63,\n",
              "  'story': 64,\n",
              "  'were': 65,\n",
              "  'can': 66,\n",
              "  'had': 67,\n",
              "  'me': 68,\n",
              "  'than': 69,\n",
              "  'much': 70,\n",
              "  'we': 71,\n",
              "  'well': 72,\n",
              "  'been': 73,\n",
              "  'get': 74,\n",
              "  'will': 75,\n",
              "  'into': 76,\n",
              "  'other': 77,\n",
              "  'great': 78,\n",
              "  'do': 79,\n",
              "  'also': 80,\n",
              "  'bad': 81,\n",
              "  'because': 82,\n",
              "  'how': 83,\n",
              "  'people': 84,\n",
              "  'most': 85,\n",
              "  'him': 86,\n",
              "  'first': 87,\n",
              "  'dont': 88,\n",
              "  'made': 89,\n",
              "  'them': 90,\n",
              "  'movies': 91,\n",
              "  'films': 92,\n",
              "  'make': 93,\n",
              "  'then': 94,\n",
              "  'way': 95,\n",
              "  'any': 96,\n",
              "  'could': 97,\n",
              "  'too': 98,\n",
              "  'characters': 99,\n",
              "  'after': 100,\n",
              "  'think': 101,\n",
              "  'watch': 102,\n",
              "  'many': 103,\n",
              "  'seen': 104,\n",
              "  'character': 105,\n",
              "  'being': 106,\n",
              "  'two': 107,\n",
              "  'never': 108,\n",
              "  'love': 109,\n",
              "  'acting': 110,\n",
              "  'best': 111,\n",
              "  'little': 112,\n",
              "  'where': 113,\n",
              "  'did': 114,\n",
              "  'plot': 115,\n",
              "  'know': 116,\n",
              "  'show': 117,\n",
              "  'life': 118,\n",
              "  'ever': 119,\n",
              "  'does': 120,\n",
              "  'your': 121,\n",
              "  'better': 122,\n",
              "  'off': 123,\n",
              "  'still': 124,\n",
              "  'scene': 125,\n",
              "  'over': 126,\n",
              "  'these': 127,\n",
              "  'say': 128,\n",
              "  'end': 129,\n",
              "  'man': 130,\n",
              "  'scenes': 131,\n",
              "  'why': 132,\n",
              "  'here': 133,\n",
              "  'while': 134,\n",
              "  'something': 135,\n",
              "  'such': 136,\n",
              "  'should': 137,\n",
              "  'go': 138,\n",
              "  'through': 139,\n",
              "  'those': 140,\n",
              "  'back': 141,\n",
              "  'im': 142,\n",
              "  'real': 143,\n",
              "  'thing': 144,\n",
              "  'watching': 145,\n",
              "  'doesnt': 146,\n",
              "  'didnt': 147,\n",
              "  'actors': 148,\n",
              "  'actually': 149,\n",
              "  'now': 150,\n",
              "  'though': 151,\n",
              "  'funny': 152,\n",
              "  'before': 153,\n",
              "  'makes': 154,\n",
              "  'years': 155,\n",
              "  'find': 156,\n",
              "  'another': 157,\n",
              "  'nothing': 158,\n",
              "  'same': 159,\n",
              "  'new': 160,\n",
              "  'look': 161,\n",
              "  'lot': 162,\n",
              "  'work': 163,\n",
              "  'going': 164,\n",
              "  'few': 165,\n",
              "  'every': 166,\n",
              "  'old': 167,\n",
              "  'us': 168,\n",
              "  'cant': 169,\n",
              "  'part': 170,\n",
              "  'again': 171,\n",
              "  'want': 172,\n",
              "  'director': 173,\n",
              "  'quite': 174,\n",
              "  'thats': 175,\n",
              "  'things': 176,\n",
              "  'cast': 177,\n",
              "  'seems': 178,\n",
              "  'pretty': 179,\n",
              "  'around': 180,\n",
              "  'young': 181,\n",
              "  'got': 182,\n",
              "  'down': 183,\n",
              "  'take': 184,\n",
              "  'world': 185,\n",
              "  'fact': 186,\n",
              "  'horror': 187,\n",
              "  'enough': 188,\n",
              "  'thought': 189,\n",
              "  'both': 190,\n",
              "  'big': 191,\n",
              "  'give': 192,\n",
              "  'between': 193,\n",
              "  'may': 194,\n",
              "  'ive': 195,\n",
              "  'own': 196,\n",
              "  'however': 197,\n",
              "  'long': 198,\n",
              "  'isnt': 199,\n",
              "  'gets': 200,\n",
              "  'always': 201,\n",
              "  'saw': 202,\n",
              "  'must': 203,\n",
              "  'original': 204,\n",
              "  'music': 205,\n",
              "  'without': 206,\n",
              "  'right': 207,\n",
              "  'come': 208,\n",
              "  'almost': 209,\n",
              "  'whole': 210,\n",
              "  'comedy': 211,\n",
              "  'role': 212,\n",
              "  'interesting': 213,\n",
              "  'series': 214,\n",
              "  'guy': 215,\n",
              "  'least': 216,\n",
              "  'times': 217,\n",
              "  'point': 218,\n",
              "  'bit': 219,\n",
              "  'action': 220,\n",
              "  'theres': 221,\n",
              "  'done': 222,\n",
              "  'script': 223,\n",
              "  'far': 224,\n",
              "  'might': 225,\n",
              "  'am': 226,\n",
              "  'hes': 227,\n",
              "  'feel': 228,\n",
              "  'since': 229,\n",
              "  'anything': 230,\n",
              "  'family': 231,\n",
              "  'last': 232,\n",
              "  'kind': 233,\n",
              "  'probably': 234,\n",
              "  'performance': 235,\n",
              "  'away': 236,\n",
              "  'tv': 237,\n",
              "  'worst': 238,\n",
              "  'rather': 239,\n",
              "  'yet': 240,\n",
              "  'each': 241,\n",
              "  'found': 242,\n",
              "  'minutes': 243,\n",
              "  'fun': 244,\n",
              "  'sure': 245,\n",
              "  'anyone': 246,\n",
              "  'played': 247,\n",
              "  'making': 248,\n",
              "  'our': 249,\n",
              "  'believe': 250,\n",
              "  'girl': 251,\n",
              "  'woman': 252,\n",
              "  'course': 253,\n",
              "  'having': 254,\n",
              "  'trying': 255,\n",
              "  'especially': 256,\n",
              "  'shows': 257,\n",
              "  'goes': 258,\n",
              "  'comes': 259,\n",
              "  'day': 260,\n",
              "  'put': 261,\n",
              "  'hard': 262,\n",
              "  'everything': 263,\n",
              "  'worth': 264,\n",
              "  'book': 265,\n",
              "  'although': 266,\n",
              "  'looking': 267,\n",
              "  'different': 268,\n",
              "  'dvd': 269,\n",
              "  'ending': 270,\n",
              "  'looks': 271,\n",
              "  'place': 272,\n",
              "  'main': 273,\n",
              "  'wasnt': 274,\n",
              "  'maybe': 275,\n",
              "  'reason': 276,\n",
              "  'watched': 277,\n",
              "  'sense': 278,\n",
              "  'once': 279,\n",
              "  'set': 280,\n",
              "  'true': 281,\n",
              "  'plays': 282,\n",
              "  'money': 283,\n",
              "  'three': 284,\n",
              "  'play': 285,\n",
              "  'screen': 286,\n",
              "  'effects': 287,\n",
              "  'someone': 288,\n",
              "  'together': 289,\n",
              "  'actor': 290,\n",
              "  'job': 291,\n",
              "  'seem': 292,\n",
              "  'during': 293,\n",
              "  'said': 294,\n",
              "  'american': 295,\n",
              "  'takes': 296,\n",
              "  'beautiful': 297,\n",
              "  'special': 298,\n",
              "  'everyone': 299,\n",
              "  '10': 300,\n",
              "  'instead': 301,\n",
              "  'seeing': 302,\n",
              "  'version': 303,\n",
              "  'later': 304,\n",
              "  'audience': 305,\n",
              "  'himself': 306,\n",
              "  'left': 307,\n",
              "  'excellent': 308,\n",
              "  'john': 309,\n",
              "  'night': 310,\n",
              "  'war': 311,\n",
              "  'idea': 312,\n",
              "  'simply': 313,\n",
              "  'black': 314,\n",
              "  'shot': 315,\n",
              "  'high': 316,\n",
              "  'youre': 317,\n",
              "  'fan': 318,\n",
              "  'used': 319,\n",
              "  'completely': 320,\n",
              "  'house': 321,\n",
              "  'read': 322,\n",
              "  'nice': 323,\n",
              "  'death': 324,\n",
              "  'kids': 325,\n",
              "  'poor': 326,\n",
              "  'wife': 327,\n",
              "  'else': 328,\n",
              "  'help': 329,\n",
              "  'along': 330,\n",
              "  'short': 331,\n",
              "  'friends': 332,\n",
              "  'half': 333,\n",
              "  'home': 334,\n",
              "  'mind': 335,\n",
              "  'use': 336,\n",
              "  'boring': 337,\n",
              "  'second': 338,\n",
              "  'less': 339,\n",
              "  'given': 340,\n",
              "  'truly': 341,\n",
              "  'men': 342,\n",
              "  'try': 343,\n",
              "  'need': 344,\n",
              "  'classic': 345,\n",
              "  'until': 346,\n",
              "  'enjoy': 347,\n",
              "  'either': 348,\n",
              "  'rest': 349,\n",
              "  'star': 350,\n",
              "  'recommend': 351,\n",
              "  'performances': 352,\n",
              "  'couple': 353,\n",
              "  'production': 354,\n",
              "  'start': 355,\n",
              "  'wrong': 356,\n",
              "  'dead': 357,\n",
              "  'father': 358,\n",
              "  'line': 359,\n",
              "  'stupid': 360,\n",
              "  'tell': 361,\n",
              "  'hollywood': 362,\n",
              "  'next': 363,\n",
              "  'camera': 364,\n",
              "  'let': 365,\n",
              "  'getting': 366,\n",
              "  'women': 367,\n",
              "  'year': 368,\n",
              "  'came': 369,\n",
              "  'school': 370,\n",
              "  'remember': 371,\n",
              "  'full': 372,\n",
              "  'understand': 373,\n",
              "  'mean': 374,\n",
              "  'others': 375,\n",
              "  'moments': 376,\n",
              "  'sex': 377,\n",
              "  'keep': 378,\n",
              "  'awful': 379,\n",
              "  'wonderful': 380,\n",
              "  'playing': 381,\n",
              "  'name': 382,\n",
              "  'terrible': 383,\n",
              "  'video': 384,\n",
              "  'doing': 385,\n",
              "  'perhaps': 386,\n",
              "  'human': 387,\n",
              "  'couldnt': 388,\n",
              "  'itself': 389,\n",
              "  'budget': 390,\n",
              "  'often': 391,\n",
              "  'gives': 392,\n",
              "  'early': 393,\n",
              "  'person': 394,\n",
              "  'small': 395,\n",
              "  'perfect': 396,\n",
              "  'definitely': 397,\n",
              "  'went': 398,\n",
              "  'top': 399,\n",
              "  'piece': 400,\n",
              "  'absolutely': 401,\n",
              "  'dialogue': 402,\n",
              "  'certainly': 403,\n",
              "  'guys': 404,\n",
              "  'face': 405,\n",
              "  'become': 406,\n",
              "  'lines': 407,\n",
              "  'sort': 408,\n",
              "  'liked': 409,\n",
              "  'episode': 410,\n",
              "  'head': 411,\n",
              "  'loved': 412,\n",
              "  'lost': 413,\n",
              "  'case': 414,\n",
              "  'live': 415,\n",
              "  'felt': 416,\n",
              "  'supposed': 417,\n",
              "  'hope': 418,\n",
              "  'entire': 419,\n",
              "  'mother': 420,\n",
              "  'boy': 421,\n",
              "  'style': 422,\n",
              "  'entertaining': 423,\n",
              "  'against': 424,\n",
              "  'worse': 425,\n",
              "  'written': 426,\n",
              "  'finally': 427,\n",
              "  'picture': 428,\n",
              "  'waste': 429,\n",
              "  'several': 430,\n",
              "  'shes': 431,\n",
              "  'totally': 432,\n",
              "  'friend': 433,\n",
              "  'title': 434,\n",
              "  'sound': 435,\n",
              "  'mr': 436,\n",
              "  'problem': 437,\n",
              "  'seemed': 438,\n",
              "  'humor': 439,\n",
              "  'laugh': 440,\n",
              "  'cinema': 441,\n",
              "  'dark': 442,\n",
              "  'based': 443,\n",
              "  'wanted': 444,\n",
              "  'yes': 445,\n",
              "  'beginning': 446,\n",
              "  'already': 447,\n",
              "  'example': 448,\n",
              "  'care': 449,\n",
              "  'wont': 450,\n",
              "  'lead': 451,\n",
              "  'becomes': 452,\n",
              "  'low': 453,\n",
              "  'final': 454,\n",
              "  'youll': 455,\n",
              "  'fans': 456,\n",
              "  'guess': 457,\n",
              "  'drama': 458,\n",
              "  'lives': 459,\n",
              "  'stars': 460,\n",
              "  'evil': 461,\n",
              "  'called': 462,\n",
              "  'able': 463,\n",
              "  'direction': 464,\n",
              "  'id': 465,\n",
              "  'throughout': 466,\n",
              "  'white': 467,\n",
              "  'turn': 468,\n",
              "  'children': 469,\n",
              "  'oh': 470,\n",
              "  'girls': 471,\n",
              "  'wants': 472,\n",
              "  'game': 473,\n",
              "  'amazing': 474,\n",
              "  'despite': 475,\n",
              "  'fine': 476,\n",
              "  'enjoyed': 477,\n",
              "  'under': 478,\n",
              "  'horrible': 479,\n",
              "  'kill': 480,\n",
              "  'quality': 481,\n",
              "  'works': 482,\n",
              "  'days': 483,\n",
              "  'gave': 484,\n",
              "  'theyre': 485,\n",
              "  'writing': 486,\n",
              "  'act': 487,\n",
              "  'history': 488,\n",
              "  'turns': 489,\n",
              "  'unfortunately': 490,\n",
              "  'side': 491,\n",
              "  'michael': 492,\n",
              "  'killer': 493,\n",
              "  'behind': 494,\n",
              "  'expect': 495,\n",
              "  'past': 496,\n",
              "  'favorite': 497,\n",
              "  'son': 498,\n",
              "  'obviously': 499,\n",
              "  'parts': 500,\n",
              "  'tries': 501,\n",
              "  'matter': 502,\n",
              "  'town': 503,\n",
              "  'flick': 504,\n",
              "  'starts': 505,\n",
              "  'sometimes': 506,\n",
              "  'car': 507,\n",
              "  'eyes': 508,\n",
              "  'ones': 509,\n",
              "  'run': 510,\n",
              "  'brilliant': 511,\n",
              "  'stuff': 512,\n",
              "  'soon': 513,\n",
              "  'myself': 514,\n",
              "  'themselves': 515,\n",
              "  'viewer': 516,\n",
              "  'says': 517,\n",
              "  'directed': 518,\n",
              "  'overall': 519,\n",
              "  'killed': 520,\n",
              "  'art': 521,\n",
              "  'genre': 522,\n",
              "  'heart': 523,\n",
              "  'actress': 524,\n",
              "  'decent': 525,\n",
              "  'city': 526,\n",
              "  'late': 527,\n",
              "  'took': 528,\n",
              "  'heard': 529,\n",
              "  'group': 530,\n",
              "  'feeling': 531,\n",
              "  'happens': 532,\n",
              "  'thinking': 533,\n",
              "  'child': 534,\n",
              "  'highly': 535,\n",
              "  'close': 536,\n",
              "  'kid': 537,\n",
              "  'hell': 538,\n",
              "  'ill': 539,\n",
              "  'fight': 540,\n",
              "  'extremely': 541,\n",
              "  'cannot': 542,\n",
              "  'except': 543,\n",
              "  'lack': 544,\n",
              "  'told': 545,\n",
              "  'wonder': 546,\n",
              "  'leave': 547,\n",
              "  'looked': 548,\n",
              "  'etc': 549,\n",
              "  'blood': 550,\n",
              "  'experience': 551,\n",
              "  'coming': 552,\n",
              "  'particularly': 553,\n",
              "  'police': 554,\n",
              "  'wouldnt': 555,\n",
              "  'moment': 556,\n",
              "  'attempt': 557,\n",
              "  'strong': 558,\n",
              "  'taken': 559,\n",
              "  'daughter': 560,\n",
              "  'involved': 561,\n",
              "  'stop': 562,\n",
              "  'chance': 563,\n",
              "  'violence': 564,\n",
              "  'stories': 565,\n",
              "  'complete': 566,\n",
              "  'serious': 567,\n",
              "  'type': 568,\n",
              "  'across': 569,\n",
              "  'save': 570,\n",
              "  'roles': 571,\n",
              "  'happen': 572,\n",
              "  'hand': 573,\n",
              "  'happened': 574,\n",
              "  'score': 575,\n",
              "  'including': 576,\n",
              "  'living': 577,\n",
              "  'james': 578,\n",
              "  'simple': 579,\n",
              "  'cool': 580,\n",
              "  'voice': 581,\n",
              "  'hour': 582,\n",
              "  'murder': 583,\n",
              "  'hilarious': 584,\n",
              "  'obvious': 585,\n",
              "  'shown': 586,\n",
              "  'ago': 587,\n",
              "  'cinematography': 588,\n",
              "  'god': 589,\n",
              "  'known': 590,\n",
              "  'saying': 591,\n",
              "  'opening': 592,\n",
              "  'exactly': 593,\n",
              "  'robert': 594,\n",
              "  'jokes': 595,\n",
              "  'song': 596,\n",
              "  'usually': 597,\n",
              "  'interest': 598,\n",
              "  'david': 599,\n",
              "  'ok': 600,\n",
              "  'reality': 601,\n",
              "  'released': 602,\n",
              "  'relationship': 603,\n",
              "  'wish': 604,\n",
              "  'slow': 605,\n",
              "  'sad': 606,\n",
              "  'whose': 607,\n",
              "  'age': 608,\n",
              "  'huge': 609,\n",
              "  'none': 610,\n",
              "  'talent': 611,\n",
              "  'order': 612,\n",
              "  'shots': 613,\n",
              "  'running': 614,\n",
              "  'english': 615,\n",
              "  'gore': 616,\n",
              "  'cut': 617,\n",
              "  'started': 618,\n",
              "  'lets': 619,\n",
              "  'crap': 620,\n",
              "  'ends': 621,\n",
              "  'seriously': 622,\n",
              "  'today': 623,\n",
              "  'brother': 624,\n",
              "  'annoying': 625,\n",
              "  'alone': 626,\n",
              "  'please': 627,\n",
              "  'hit': 628,\n",
              "  'major': 629,\n",
              "  'usual': 630,\n",
              "  'taking': 631,\n",
              "  'female': 632,\n",
              "  'career': 633,\n",
              "  'yourself': 634,\n",
              "  'knows': 635,\n",
              "  'finds': 636,\n",
              "  'knew': 637,\n",
              "  'ridiculous': 638,\n",
              "  'possible': 639,\n",
              "  'hero': 640,\n",
              "  'novel': 641,\n",
              "  'number': 642,\n",
              "  'body': 643,\n",
              "  'somewhat': 644,\n",
              "  'important': 645,\n",
              "  'silly': 646,\n",
              "  'mostly': 647,\n",
              "  'opinion': 648,\n",
              "  'call': 649,\n",
              "  'beyond': 650,\n",
              "  'turned': 651,\n",
              "  'change': 652,\n",
              "  'view': 653,\n",
              "  'scary': 654,\n",
              "  'husband': 655,\n",
              "  'local': 656,\n",
              "  'word': 657,\n",
              "  'documentary': 658,\n",
              "  'directors': 659,\n",
              "  'power': 660,\n",
              "  'apparently': 661,\n",
              "  'words': 662,\n",
              "  'strange': 663,\n",
              "  'happy': 664,\n",
              "  'clearly': 665,\n",
              "  'anyway': 666,\n",
              "  'upon': 667,\n",
              "  'talking': 668,\n",
              "  'due': 669,\n",
              "  'cheap': 670,\n",
              "  'arent': 671,\n",
              "  'problems': 672,\n",
              "  'country': 673,\n",
              "  'miss': 674,\n",
              "  'disappointed': 675,\n",
              "  'attention': 676,\n",
              "  'level': 677,\n",
              "  'single': 678,\n",
              "  'musical': 679,\n",
              "  'sequence': 680,\n",
              "  'light': 681,\n",
              "  'events': 682,\n",
              "  'jack': 683,\n",
              "  'room': 684,\n",
              "  'modern': 685,\n",
              "  'basically': 686,\n",
              "  'television': 687,\n",
              "  'talk': 688,\n",
              "  'tells': 689,\n",
              "  'four': 690,\n",
              "  'british': 691,\n",
              "  'supporting': 692,\n",
              "  'falls': 693,\n",
              "  'sets': 694,\n",
              "  'whats': 695,\n",
              "  'songs': 696,\n",
              "  'episodes': 697,\n",
              "  'similar': 698,\n",
              "  'bring': 699,\n",
              "  'french': 700,\n",
              "  'giving': 701,\n",
              "  'soundtrack': 702,\n",
              "  'easily': 703,\n",
              "  'dialog': 704,\n",
              "  'appears': 705,\n",
              "  'mention': 706,\n",
              "  'review': 707,\n",
              "  'showing': 708,\n",
              "  'whether': 709,\n",
              "  'havent': 710,\n",
              "  'message': 711,\n",
              "  'parents': 712,\n",
              "  'add': 713,\n",
              "  'five': 714,\n",
              "  'predictable': 715,\n",
              "  'viewers': 716,\n",
              "  'bunch': 717,\n",
              "  'lots': 718,\n",
              "  'tried': 719,\n",
              "  'earth': 720,\n",
              "  'future': 721,\n",
              "  'space': 722,\n",
              "  'hate': 723,\n",
              "  'team': 724,\n",
              "  'george': 725,\n",
              "  'comic': 726,\n",
              "  'above': 727,\n",
              "  'named': 728,\n",
              "  'romantic': 729,\n",
              "  'clear': 730,\n",
              "  'moving': 731,\n",
              "  'needs': 732,\n",
              "  'certain': 733,\n",
              "  'among': 734,\n",
              "  'storyline': 735,\n",
              "  'entertainment': 736,\n",
              "  'middle': 737,\n",
              "  'sequel': 738,\n",
              "  'rating': 739,\n",
              "  'within': 740,\n",
              "  'ten': 741,\n",
              "  'filmed': 742,\n",
              "  'enjoyable': 743,\n",
              "  'dull': 744,\n",
              "  'stay': 745,\n",
              "  'fall': 746,\n",
              "  'theme': 747,\n",
              "  'surprised': 748,\n",
              "  'kept': 749,\n",
              "  'easy': 750,\n",
              "  'using': 751,\n",
              "  'ways': 752,\n",
              "  'theater': 753,\n",
              "  'editing': 754,\n",
              "  'thriller': 755,\n",
              "  'gone': 756,\n",
              "  'comments': 757,\n",
              "  'release': 758,\n",
              "  'doubt': 759,\n",
              "  'hours': 760,\n",
              "  'near': 761,\n",
              "  'typical': 762,\n",
              "  'straight': 763,\n",
              "  'suspense': 764,\n",
              "  'feels': 765,\n",
              "  'elements': 766,\n",
              "  'sorry': 767,\n",
              "  'brought': 768,\n",
              "  'imagine': 769,\n",
              "  'deal': 770,\n",
              "  'buy': 771,\n",
              "  'working': 772,\n",
              "  'herself': 773,\n",
              "  'actual': 774,\n",
              "  'monster': 775,\n",
              "  'effort': 776,\n",
              "  'means': 777,\n",
              "  'subject': 778,\n",
              "  'die': 779,\n",
              "  'rock': 780,\n",
              "  '80s': 781,\n",
              "  'writer': 782,\n",
              "  'class': 783,\n",
              "  'general': 784,\n",
              "  'greatest': 785,\n",
              "  'nearly': 786,\n",
              "  'dr': 787,\n",
              "  'youve': 788,\n",
              "  'lady': 789,\n",
              "  'famous': 790,\n",
              "  'reviews': 791,\n",
              "  'tale': 792,\n",
              "  'form': 793,\n",
              "  'move': 794,\n",
              "  'viewing': 795,\n",
              "  'feature': 796,\n",
              "  'mystery': 797,\n",
              "  'sister': 798,\n",
              "  'peter': 799,\n",
              "  'king': 800,\n",
              "  'boys': 801,\n",
              "  'learn': 802,\n",
              "  'fantastic': 803,\n",
              "  'somehow': 804,\n",
              "  'material': 805,\n",
              "  'realistic': 806,\n",
              "  'forget': 807,\n",
              "  'hear': 808,\n",
              "  'richard': 809,\n",
              "  'leads': 810,\n",
              "  'check': 811,\n",
              "  'begins': 812,\n",
              "  'rent': 813,\n",
              "  'figure': 814,\n",
              "  'whos': 815,\n",
              "  'sequences': 816,\n",
              "  'atmosphere': 817,\n",
              "  'dog': 818,\n",
              "  'deep': 819,\n",
              "  'killing': 820,\n",
              "  'eventually': 821,\n",
              "  'premise': 822,\n",
              "  'particular': 823,\n",
              "  'crime': 824,\n",
              "  'emotional': 825,\n",
              "  'wait': 826,\n",
              "  'believable': 827,\n",
              "  'weak': 828,\n",
              "  'red': 829,\n",
              "  'period': 830,\n",
              "  'paul': 831,\n",
              "  'decided': 832,\n",
              "  'tom': 833,\n",
              "  'points': 834,\n",
              "  'avoid': 835,\n",
              "  'york': 836,\n",
              "  'animation': 837,\n",
              "  'expected': 838,\n",
              "  'possibly': 839,\n",
              "  'truth': 840,\n",
              "  'surprise': 841,\n",
              "  'sit': 842,\n",
              "  'okay': 843,\n",
              "  'meet': 844,\n",
              "  'difficult': 845,\n",
              "  'indeed': 846,\n",
              "  'dance': 847,\n",
              "  'poorly': 848,\n",
              "  'leaves': 849,\n",
              "  'eye': 850,\n",
              "  'became': 851,\n",
              "  'sexual': 852,\n",
              "  'open': 853,\n",
              "  'fast': 854,\n",
              "  'forced': 855,\n",
              "  'footage': 856,\n",
              "  'stand': 857,\n",
              "  'begin': 858,\n",
              "  'lame': 859,\n",
              "  'writers': 860,\n",
              "  'features': 861,\n",
              "  'crew': 862,\n",
              "  'needed': 863,\n",
              "  'shame': 864,\n",
              "  'situation': 865,\n",
              "  'meets': 866,\n",
              "  'whatever': 867,\n",
              "  'memorable': 868,\n",
              "  'scifi': 869,\n",
              "  'average': 870,\n",
              "  'romance': 871,\n",
              "  'gay': 872,\n",
              "  'write': 873,\n",
              "  'question': 874,\n",
              "  'filmmakers': 875,\n",
              "  'total': 876,\n",
              "  'previous': 877,\n",
              "  'follow': 878,\n",
              "  'beauty': 879,\n",
              "  'whom': 880,\n",
              "  'otherwise': 881,\n",
              "  'personal': 882,\n",
              "  'cheesy': 883,\n",
              "  'hands': 884,\n",
              "  'doctor': 885,\n",
              "  'reading': 886,\n",
              "  'oscar': 887,\n",
              "  'keeps': 888,\n",
              "  'box': 889,\n",
              "  'towards': 890,\n",
              "  'crazy': 891,\n",
              "  'comment': 892,\n",
              "  'note': 893,\n",
              "  'realize': 894,\n",
              "  'credits': 895,\n",
              "  'unless': 896,\n",
              "  'result': 897,\n",
              "  'nor': 898,\n",
              "  'society': 899,\n",
              "  'badly': 900,\n",
              "  'perfectly': 901,\n",
              "  'third': 902,\n",
              "  'weird': 903,\n",
              "  'hot': 904,\n",
              "  'nature': 905,\n",
              "  'sounds': 906,\n",
              "  'masterpiece': 907,\n",
              "  'setting': 908,\n",
              "  'superb': 909,\n",
              "  'effect': 910,\n",
              "  'interested': 911,\n",
              "  'appear': 912,\n",
              "  'street': 913,\n",
              "  'unique': 914,\n",
              "  'imdb': 915,\n",
              "  'japanese': 916,\n",
              "  'de': 917,\n",
              "  'incredibly': 918,\n",
              "  'inside': 919,\n",
              "  'brings': 920,\n",
              "  'male': 921,\n",
              "  '20': 922,\n",
              "  'background': 923,\n",
              "  'older': 924,\n",
              "  'minute': 925,\n",
              "  'stage': 926,\n",
              "  'quickly': 927,\n",
              "  'earlier': 928,\n",
              "  'screenplay': 929,\n",
              "  'copy': 930,\n",
              "  'laughs': 931,\n",
              "  'worked': 932,\n",
              "  'plus': 933,\n",
              "  'plenty': 934,\n",
              "  'air': 935,\n",
              "  'western': 936,\n",
              "  'island': 937,\n",
              "  'mark': 938,\n",
              "  'directing': 939,\n",
              "  'admit': 940,\n",
              "  'america': 941,\n",
              "  'fairly': 942,\n",
              "  'portrayed': 943,\n",
              "  'dramatic': 944,\n",
              "  'joe': 945,\n",
              "  'various': 946,\n",
              "  'free': 947,\n",
              "  'battle': 948,\n",
              "  'rich': 949,\n",
              "  'front': 950,\n",
              "  'creepy': 951,\n",
              "  'b': 952,\n",
              "  'political': 953,\n",
              "  'mess': 954,\n",
              "  'meant': 955,\n",
              "  'lee': 956,\n",
              "  'leading': 957,\n",
              "  'deserves': 958,\n",
              "  'spent': 959,\n",
              "  'outside': 960,\n",
              "  'create': 961,\n",
              "  'baby': 962,\n",
              "  'powerful': 963,\n",
              "  'forward': 964,\n",
              "  'following': 965,\n",
              "  'ask': 966,\n",
              "  'attempts': 967,\n",
              "  'acted': 968,\n",
              "  'missing': 969,\n",
              "  'success': 970,\n",
              "  'bill': 971,\n",
              "  'joke': 972,\n",
              "  'cover': 973,\n",
              "  'manages': 974,\n",
              "  '70s': 975,\n",
              "  'water': 976,\n",
              "  'business': 977,\n",
              "  'development': 978,\n",
              "  'dumb': 979,\n",
              "  'plain': 980,\n",
              "  'remake': 981,\n",
              "  'fails': 982,\n",
              "  'ideas': 983,\n",
              "  'caught': 984,\n",
              "  'apart': 985,\n",
              "  'twist': 986,\n",
              "  'expecting': 987,\n",
              "  'wasted': 988,\n",
              "  'present': 989,\n",
              "  'recently': 990,\n",
              "  'cute': 991,\n",
              "  'pay': 992,\n",
              "  'cop': 993,\n",
              "  'brothers': 994,\n",
              "  'fire': 995,\n",
              "  'clever': 996,\n",
              "  'dream': 997,\n",
              "  'hardly': 998,\n",
              "  'members': 999,\n",
              "  'secret': 1000,\n",
              "  ...})"
            ]
          },
          "metadata": {},
          "execution_count": 19
        }
      ],
      "source": [
        "len(tokenizer.word_index), tokenizer.word_index"
      ]
    },
    {
      "cell_type": "code",
      "execution_count": null,
      "metadata": {
        "id": "lj72NY4CDXs5"
      },
      "outputs": [],
      "source": [
        "vocab_size = len(tokenizer.word_index) + 1"
      ]
    },
    {
      "cell_type": "code",
      "execution_count": null,
      "metadata": {
        "id": "iYQDXjiXEVpQ"
      },
      "outputs": [],
      "source": [
        "# padding data to make sure each list has a size of 100\n",
        "xtrain = pad_sequences(xtrain, padding = 'post', maxlen = 100)\n",
        "xtest_padded = pad_sequences(xtest_tok, padding = 'post', maxlen = 100)"
      ]
    },
    {
      "cell_type": "code",
      "execution_count": null,
      "metadata": {
        "colab": {
          "base_uri": "https://localhost:8080/"
        },
        "id": "3zR0kzHOE_k_",
        "outputId": "f63dce70-4c9c-4547-debd-b8280022c8ec"
      },
      "outputs": [
        {
          "output_type": "execute_result",
          "data": {
            "text/plain": [
              "array([ 175,   41,    1,   61, 1619,  481,    7,    3,   16,   11,  881,\n",
              "          1,  716, 1657,   31, 2249, 1356,    4,   58,  115,    2,  276,\n",
              "         15,  106,   83,   11,  215,   14,    1, 4322,  119,  182,    3,\n",
              "          7,  362,    6,  650,   68,    0,    0,    0,    0,    0,    0,\n",
              "          0,    0,    0,    0,    0,    0,    0,    0,    0,    0,    0,\n",
              "          0,    0,    0,    0,    0,    0,    0,    0,    0,    0,    0,\n",
              "          0,    0,    0,    0,    0,    0,    0,    0,    0,    0,    0,\n",
              "          0,    0,    0,    0,    0,    0,    0,    0,    0,    0,    0,\n",
              "          0,    0,    0,    0,    0,    0,    0,    0,    0,    0,    0,\n",
              "          0], dtype=int32)"
            ]
          },
          "metadata": {},
          "execution_count": 22
        }
      ],
      "source": [
        "xtrain[0]"
      ]
    },
    {
      "cell_type": "code",
      "execution_count": null,
      "metadata": {
        "id": "etTjNz22Fcgj"
      },
      "outputs": [],
      "source": [
        "# create future matrix using gloVe embedding\n",
        "embeddings = dict()\n",
        "glove_file = open('/content/glove.6B.100d.txt' ,encoding = 'utf8')\n",
        "\n",
        "for g in glove_file:\n",
        "  records = g.split()\n",
        "  word = records[0]\n",
        "  vector_dimensions = np.asarray(records[1:], dtype = 'float32')\n",
        "  embeddings[word] = vector_dimensions\n",
        "\n",
        "glove_file.close()"
      ]
    },
    {
      "cell_type": "code",
      "execution_count": null,
      "metadata": {
        "id": "sU4GjpUzFAlX"
      },
      "outputs": [],
      "source": [
        "emb = np.zeros((vocab_size, 100))\n",
        "for word, index in tokenizer.word_index.items():\n",
        "  embedding_vector = embeddings.get(word)\n",
        "  if embedding_vector is not None:\n",
        "    emb[index] = embedding_vector"
      ]
    },
    {
      "cell_type": "markdown",
      "metadata": {
        "id": "EMT8pT6JOK0d"
      },
      "source": [
        "#**Model Building and Evaluation**"
      ]
    },
    {
      "cell_type": "code",
      "execution_count": null,
      "metadata": {
        "id": "gP2TBwIk_TGi",
        "colab": {
          "base_uri": "https://localhost:8080/"
        },
        "outputId": "fa289961-c8c5-4480-befe-29358e56f252"
      },
      "outputs": [
        {
          "output_type": "stream",
          "name": "stderr",
          "text": [
            "WARNING:tensorflow:Layer gru will not use cuDNN kernels since it doesn't meet the criteria. It will use a generic GPU kernel as fallback when running on GPU.\n"
          ]
        }
      ],
      "source": [
        "model = Sequential([\n",
        "    Embedding(vocab_size, 100, weights = [emb], input_length = 100), # converts text to numeric data\n",
        "    GRU(128, activation='relu', kernel_regularizer = regularizers.L1L2(l1=1e-5, l2=1e-4), dropout = 0.2),\n",
        "    keras.layers.Dropout(0.5),\n",
        "    Dense(128, activation='sigmoid'),\n",
        "    Dense(64, activation='LeakyReLU'),\n",
        "    Dense(1, activation='sigmoid')\n",
        "])"
      ]
    },
    {
      "cell_type": "code",
      "execution_count": null,
      "metadata": {
        "colab": {
          "base_uri": "https://localhost:8080/"
        },
        "id": "YFQGmmnXCG-M",
        "outputId": "f80cb453-1150-4c3e-ad31-18b2c0cd4cea"
      },
      "outputs": [
        {
          "output_type": "stream",
          "name": "stdout",
          "text": [
            "Model: \"sequential\"\n",
            "_________________________________________________________________\n",
            " Layer (type)                Output Shape              Param #   \n",
            "=================================================================\n",
            " embedding (Embedding)       (None, 100, 100)          19890300  \n",
            "                                                                 \n",
            " gru (GRU)                   (None, 128)               88320     \n",
            "                                                                 \n",
            " dropout (Dropout)           (None, 128)               0         \n",
            "                                                                 \n",
            " dense (Dense)               (None, 128)               16512     \n",
            "                                                                 \n",
            " dense_1 (Dense)             (None, 64)                8256      \n",
            "                                                                 \n",
            " dense_2 (Dense)             (None, 1)                 65        \n",
            "                                                                 \n",
            "=================================================================\n",
            "Total params: 20,003,453\n",
            "Trainable params: 20,003,453\n",
            "Non-trainable params: 0\n",
            "_________________________________________________________________\n"
          ]
        }
      ],
      "source": [
        "model.summary()"
      ]
    },
    {
      "cell_type": "code",
      "execution_count": null,
      "metadata": {
        "id": "3QdS8vZ1CIQL"
      },
      "outputs": [],
      "source": [
        "model.compile(\n",
        "    optimizer='adam',\n",
        "    loss = 'binary_crossentropy',\n",
        "    metrics = ['accuracy']\n",
        ")"
      ]
    },
    {
      "cell_type": "code",
      "execution_count": 32,
      "metadata": {
        "colab": {
          "base_uri": "https://localhost:8080/"
        },
        "id": "pD2J0BBhCVqI",
        "outputId": "779de83f-8632-47bd-fbdb-ebd7db9fdce9"
      },
      "outputs": [
        {
          "output_type": "stream",
          "name": "stdout",
          "text": [
            "Epoch 1/30\n",
            "320/320 - 37s - loss: 0.0790 - accuracy: 0.9819 - val_loss: 0.5932 - val_accuracy: 0.8571 - 37s/epoch - 115ms/step\n",
            "Epoch 2/30\n",
            "320/320 - 38s - loss: 0.0721 - accuracy: 0.9847 - val_loss: 0.5971 - val_accuracy: 0.8575 - 38s/epoch - 118ms/step\n",
            "Epoch 3/30\n",
            "320/320 - 37s - loss: 0.0733 - accuracy: 0.9841 - val_loss: 0.6669 - val_accuracy: 0.8586 - 37s/epoch - 114ms/step\n",
            "Epoch 4/30\n",
            "320/320 - 38s - loss: 0.0708 - accuracy: 0.9855 - val_loss: 0.6594 - val_accuracy: 0.8562 - 38s/epoch - 117ms/step\n",
            "Epoch 5/30\n",
            "320/320 - 37s - loss: 0.0672 - accuracy: 0.9875 - val_loss: 0.6204 - val_accuracy: 0.8572 - 37s/epoch - 114ms/step\n",
            "Epoch 6/30\n",
            "320/320 - 36s - loss: 0.0666 - accuracy: 0.9869 - val_loss: 0.6311 - val_accuracy: 0.8596 - 36s/epoch - 113ms/step\n",
            "Epoch 7/30\n",
            "320/320 - 37s - loss: 0.0672 - accuracy: 0.9866 - val_loss: 0.6263 - val_accuracy: 0.8562 - 37s/epoch - 117ms/step\n",
            "Epoch 8/30\n",
            "320/320 - 36s - loss: 0.0635 - accuracy: 0.9875 - val_loss: 0.6061 - val_accuracy: 0.8615 - 36s/epoch - 114ms/step\n",
            "Epoch 9/30\n",
            "320/320 - 38s - loss: 0.0640 - accuracy: 0.9876 - val_loss: 0.6358 - val_accuracy: 0.8584 - 38s/epoch - 119ms/step\n",
            "Epoch 10/30\n",
            "320/320 - 37s - loss: 0.0638 - accuracy: 0.9876 - val_loss: 0.6225 - val_accuracy: 0.8593 - 37s/epoch - 115ms/step\n",
            "Epoch 11/30\n",
            "320/320 - 37s - loss: 0.0592 - accuracy: 0.9893 - val_loss: 0.6859 - val_accuracy: 0.8580 - 37s/epoch - 114ms/step\n",
            "Epoch 12/30\n",
            "320/320 - 37s - loss: 0.0577 - accuracy: 0.9898 - val_loss: 0.6632 - val_accuracy: 0.8586 - 37s/epoch - 116ms/step\n",
            "Epoch 13/30\n",
            "320/320 - 37s - loss: 0.0577 - accuracy: 0.9896 - val_loss: 0.7097 - val_accuracy: 0.8585 - 37s/epoch - 114ms/step\n",
            "Epoch 14/30\n",
            "320/320 - 37s - loss: 0.0559 - accuracy: 0.9902 - val_loss: 0.6588 - val_accuracy: 0.8559 - 37s/epoch - 114ms/step\n",
            "Epoch 15/30\n",
            "320/320 - 36s - loss: 0.0559 - accuracy: 0.9901 - val_loss: 0.6951 - val_accuracy: 0.8569 - 36s/epoch - 114ms/step\n",
            "Epoch 16/30\n",
            "320/320 - 36s - loss: 0.0573 - accuracy: 0.9892 - val_loss: 0.6969 - val_accuracy: 0.8587 - 36s/epoch - 114ms/step\n",
            "Epoch 17/30\n",
            "320/320 - 37s - loss: 0.0565 - accuracy: 0.9903 - val_loss: 0.6662 - val_accuracy: 0.8572 - 37s/epoch - 116ms/step\n",
            "Epoch 18/30\n",
            "320/320 - 37s - loss: 0.0543 - accuracy: 0.9905 - val_loss: 0.6819 - val_accuracy: 0.8545 - 37s/epoch - 114ms/step\n",
            "Epoch 19/30\n",
            "320/320 - 36s - loss: 0.0501 - accuracy: 0.9919 - val_loss: 0.7420 - val_accuracy: 0.8577 - 36s/epoch - 113ms/step\n",
            "Epoch 20/30\n",
            "320/320 - 37s - loss: 0.0511 - accuracy: 0.9915 - val_loss: 0.6846 - val_accuracy: 0.8589 - 37s/epoch - 115ms/step\n",
            "Epoch 21/30\n",
            "320/320 - 37s - loss: 0.0531 - accuracy: 0.9909 - val_loss: 0.6606 - val_accuracy: 0.8569 - 37s/epoch - 117ms/step\n",
            "Epoch 22/30\n",
            "320/320 - 37s - loss: 0.0505 - accuracy: 0.9915 - val_loss: 0.7048 - val_accuracy: 0.8529 - 37s/epoch - 114ms/step\n",
            "Epoch 23/30\n",
            "320/320 - 36s - loss: 0.0491 - accuracy: 0.9919 - val_loss: 0.6698 - val_accuracy: 0.8562 - 36s/epoch - 113ms/step\n",
            "Epoch 24/30\n",
            "320/320 - 36s - loss: 0.0495 - accuracy: 0.9919 - val_loss: 0.6737 - val_accuracy: 0.8540 - 36s/epoch - 114ms/step\n",
            "Epoch 25/30\n",
            "320/320 - 37s - loss: 0.0472 - accuracy: 0.9926 - val_loss: 0.6945 - val_accuracy: 0.8583 - 37s/epoch - 115ms/step\n",
            "Epoch 26/30\n",
            "320/320 - 38s - loss: 0.0454 - accuracy: 0.9930 - val_loss: 0.7312 - val_accuracy: 0.8593 - 38s/epoch - 118ms/step\n",
            "Epoch 27/30\n",
            "320/320 - 37s - loss: 0.0478 - accuracy: 0.9924 - val_loss: 0.7977 - val_accuracy: 0.8546 - 37s/epoch - 116ms/step\n",
            "Epoch 28/30\n",
            "320/320 - 36s - loss: 0.0471 - accuracy: 0.9920 - val_loss: 0.8115 - val_accuracy: 0.8554 - 36s/epoch - 114ms/step\n",
            "Epoch 29/30\n",
            "320/320 - 37s - loss: 0.0435 - accuracy: 0.9938 - val_loss: 0.7645 - val_accuracy: 0.8533 - 37s/epoch - 115ms/step\n",
            "Epoch 30/30\n",
            "320/320 - 36s - loss: 0.0460 - accuracy: 0.9927 - val_loss: 0.7226 - val_accuracy: 0.8560 - 36s/epoch - 114ms/step\n"
          ]
        }
      ],
      "source": [
        "history = model.fit(\n",
        "    xtrain,\n",
        "    ytrain,\n",
        "    batch_size = 100,\n",
        "    epochs = 30,\n",
        "    verbose = 2,\n",
        "    validation_split = 0.2\n",
        ")"
      ]
    },
    {
      "cell_type": "code",
      "execution_count": 33,
      "metadata": {
        "id": "2kLowfBQPOxS",
        "colab": {
          "base_uri": "https://localhost:8080/"
        },
        "outputId": "402adacc-35d9-4071-e7f3-2b9da2e382b9"
      },
      "outputs": [
        {
          "output_type": "stream",
          "name": "stdout",
          "text": [
            "313/313 - 5s - loss: 0.7928 - accuracy: 0.8466 - 5s/epoch - 17ms/step\n"
          ]
        }
      ],
      "source": [
        "score = model.evaluate(xtest_padded, ytest, verbose = 2)"
      ]
    },
    {
      "cell_type": "code",
      "execution_count": 34,
      "metadata": {
        "id": "dWECkMwtWT5C",
        "colab": {
          "base_uri": "https://localhost:8080/"
        },
        "outputId": "48f3f60c-995b-4ab5-c171-1050c1f0def5"
      },
      "outputs": [
        {
          "output_type": "stream",
          "name": "stdout",
          "text": [
            "313/313 [==============================] - 6s 19ms/step\n"
          ]
        },
        {
          "output_type": "execute_result",
          "data": {
            "text/plain": [
              "0.1534"
            ]
          },
          "metadata": {},
          "execution_count": 34
        }
      ],
      "source": [
        "np.set_printoptions(suppress=True)\n",
        "result = model.predict(xtest_padded)\n",
        "\n",
        "y_pred = np.zeros(len(result))\n",
        "for i, score in enumerate(result):\n",
        "    y_pred[i] = 1 if score > 0.5 else 0\n",
        "     \n",
        "\n",
        "from sklearn.metrics import mean_absolute_error\n",
        "mae = mean_absolute_error(y_pred, ytest)\n",
        "mae"
      ]
    },
    {
      "cell_type": "code",
      "execution_count": 35,
      "metadata": {
        "id": "932ej9s6T_ET",
        "colab": {
          "base_uri": "https://localhost:8080/",
          "height": 331
        },
        "outputId": "0ef3f1ef-3b57-4604-ab83-9683f38adb14"
      },
      "outputs": [
        {
          "output_type": "execute_result",
          "data": {
            "text/plain": [
              "<Figure size 432x288 with 0 Axes>"
            ]
          },
          "metadata": {},
          "execution_count": 35
        },
        {
          "output_type": "display_data",
          "data": {
            "text/plain": [
              "<Figure size 432x288 with 1 Axes>"
            ],
            "image/png": "[encoded data removed]"
          },
          "metadata": {
            "needs_background": "light"
          }
        },
        {
          "output_type": "display_data",
          "data": {
            "text/plain": [
              "<Figure size 432x288 with 0 Axes>"
            ]
          },
          "metadata": {}
        }
      ],
      "source": [
        "import matplotlib.pyplot as plt\n",
        "acc = history.history['accuracy']\n",
        "test_acc = history.history['val_accuracy']\n",
        "epochs = range(len(acc))\n",
        "plt.plot(epochs, acc)\n",
        "plt.plot(epochs, test_acc)\n",
        "\n",
        "plt.title('accuracy') \n",
        "plt.xlabel('epoch')\n",
        "plt.figure()"
      ]
    },
    {
      "cell_type": "code",
      "execution_count": 36,
      "metadata": {
        "id": "Da9wNVJ0WFb9",
        "colab": {
          "base_uri": "https://localhost:8080/",
          "height": 331
        },
        "outputId": "02f2a08a-af43-496a-b20b-d91b376202f4"
      },
      "outputs": [
        {
          "output_type": "execute_result",
          "data": {
            "text/plain": [
              "<Figure size 432x288 with 0 Axes>"
            ]
          },
          "metadata": {},
          "execution_count": 36
        },
        {
          "output_type": "display_data",
          "data": {
            "text/plain": [
              "<Figure size 432x288 with 1 Axes>"
            ],
            "image/png": "[encoded data removed]"
          },
          "metadata": {
            "needs_background": "light"
          }
        },
        {
          "output_type": "display_data",
          "data": {
            "text/plain": [
              "<Figure size 432x288 with 0 Axes>"
            ]
          },
          "metadata": {}
        }
      ],
      "source": [
        "acc = history.history['loss']\n",
        "test_acc = history.history['val_loss']\n",
        "epochs = range(len(acc))\n",
        "plt.plot(epochs, acc)\n",
        "plt.plot(epochs, test_acc)\n",
        "\n",
        "plt.title('loss') \n",
        "plt.xlabel('epoch')\n",
        "plt.figure()"
      ]
    },
    {
      "cell_type": "markdown",
      "source": [
        "#**Model Testing**"
      ],
      "metadata": {
        "id": "f5ovoJKOBc3R"
      }
    },
    {
      "cell_type": "code",
      "execution_count": 37,
      "metadata": {
        "id": "IqbGkS4-UiEw",
        "colab": {
          "base_uri": "https://localhost:8080/"
        },
        "outputId": "d0becbe8-4084-4777-b3ca-68f293f58641"
      },
      "outputs": [
        {
          "output_type": "execute_result",
          "data": {
            "text/plain": [
              "11841    john cassavetes is on the run from the law he ...\n",
              "19602    its not just that the movie is lame its more t...\n",
              "45519    well if it werent for ethel waters and a 7year...\n",
              "25747    i find alan jacobs review very accurate concer...\n",
              "42642    this movie is simply awesome it is so hilariou...\n",
              "                               ...                        \n",
              "25091    how did such a terrible script manage to attra...\n",
              "27853    i was invited to view this film at a small art...\n",
              "47278    first of allthere is a detective storylgitime ...\n",
              "37020    this movie grabbed me with the incredible open...\n",
              "2217     i saw this film at sxsw with the director in a...\n",
              "Name: review, Length: 10000, dtype: object"
            ]
          },
          "metadata": {},
          "execution_count": 37
        }
      ],
      "source": [
        "xtest"
      ]
    },
    {
      "cell_type": "code",
      "execution_count": 42,
      "metadata": {
        "id": "T_KA0QEnP7bk",
        "colab": {
          "base_uri": "https://localhost:8080/"
        },
        "outputId": "cfd6a4f3-8461-466e-d5d6-9b0791ce3530"
      },
      "outputs": [
        {
          "output_type": "execute_result",
          "data": {
            "text/plain": [
              "('i saw this film at sxsw with the director in attendance quite a few people walked out and the audience could barely muster even polite applause at the end of the 60 or 70 films ive seen at this festival frownland is among the worstat 106 minutes it is at least 95 minutes too long you get to watch the main characters failed and drawn out attempts to communicate in extended real time the same grimaces hand over mouth motions kinetic and frantically repeated words and syllables over and over and over again  we get the pointone site actually compares this work to early mike leigh what drugs would you have to be on to make that statement given that frownland is a captain beefheart song maybe youd have to be able to enjoy trout mask replica on heavy rotation to appreciate this film unbelievably this won a jury award at the festival you can bet it did not win an audience award',\n",
              " 0)"
            ]
          },
          "metadata": {},
          "execution_count": 42
        }
      ],
      "source": [
        "test = xtest[2217]\n",
        "test, ytest[2217]"
      ]
    },
    {
      "cell_type": "code",
      "execution_count": 43,
      "metadata": {
        "id": "HrW7l-30Q6xY",
        "colab": {
          "base_uri": "https://localhost:8080/"
        },
        "outputId": "8d06b999-caee-43d6-93f4-6fd03557da62"
      },
      "outputs": [
        {
          "output_type": "stream",
          "name": "stdout",
          "text": [
            "1/1 [==============================] - 0s 34ms/step\n"
          ]
        },
        {
          "output_type": "execute_result",
          "data": {
            "text/plain": [
              "array([[0.00193507]], dtype=float32)"
            ]
          },
          "metadata": {},
          "execution_count": 43
        }
      ],
      "source": [
        "test = tokenizer.texts_to_sequences(test)\n",
        "\n",
        "flat_list = []\n",
        "for sublist in test:\n",
        "  for item in sublist:\n",
        "    flat_list.append(item)\n",
        "\n",
        "flat_list = [flat_list]\n",
        "\n",
        "test = pad_sequences(flat_list, padding = 'post', maxlen = 100)\n",
        "\n",
        "model.predict(test)"
      ]
    },
    {
      "cell_type": "markdown",
      "source": [
        "0.001 < 0.5\n",
        "\n",
        "so the result is 0"
      ],
      "metadata": {
        "id": "mWo20eSI_lzT"
      }
    },
    {
      "cell_type": "code",
      "execution_count": 44,
      "metadata": {
        "id": "TQyAa1d8tzPl",
        "colab": {
          "base_uri": "https://localhost:8080/"
        },
        "outputId": "330b5cae-f613-4d9e-a8b2-589cb8780784"
      },
      "outputs": [
        {
          "output_type": "execute_result",
          "data": {
            "text/plain": [
              "('this movie grabbed me with the incredible opening sequence which tricked me into a complete reversal of perspective so i was hooked by the time the title came on the theme of this movie is that everyone is acting trying to reinvent themselves but not in a tricky way like identity or the usual suspects but in the way we all try to make whatever banal life we find ourselves in a little more interesting the scenes in the chicken warehouses are spectacular at one point jorgen who owns the chicken farm attends a seminar in laughing where hes the worst student his discomfort at this lets you see the depth of his yearning to change himself the movie made me wonder about the hidden mysteries that lie behind the surface of the most commonplace people i see every day theres not a lot of plot here guessing the old mans secret is pretty easy but the fascination lies in trying to guess what all the other characters will do when they figure it out this movie appealed to me in the same way that sideways did although the characters couldnt be more dissimilar',\n",
              " 1)"
            ]
          },
          "metadata": {},
          "execution_count": 44
        }
      ],
      "source": [
        "test = xtest[37020]\n",
        "test, ytest[37020]"
      ]
    },
    {
      "cell_type": "code",
      "execution_count": 45,
      "metadata": {
        "colab": {
          "base_uri": "https://localhost:8080/"
        },
        "outputId": "c95df23f-b4b1-47db-e717-71dd46a45e0d",
        "id": "eQbU7XDfgZbV"
      },
      "outputs": [
        {
          "output_type": "stream",
          "name": "stdout",
          "text": [
            "1/1 [==============================] - 0s 35ms/step\n"
          ]
        },
        {
          "output_type": "execute_result",
          "data": {
            "text/plain": [
              "array([[0.96270984]], dtype=float32)"
            ]
          },
          "metadata": {},
          "execution_count": 45
        }
      ],
      "source": [
        "test = tokenizer.texts_to_sequences(test)\n",
        "\n",
        "flat_list = []\n",
        "for sublist in test:\n",
        "  for item in sublist:\n",
        "    flat_list.append(item)\n",
        "\n",
        "flat_list = [flat_list]\n",
        "\n",
        "test = pad_sequences(flat_list, padding = 'post', maxlen = 100)\n",
        "\n",
        "model.predict(test)"
      ]
    },
    {
      "cell_type": "markdown",
      "source": [
        "0.9 > 0.5\n",
        "\n",
        "so the result is 1"
      ],
      "metadata": {
        "id": "O0mWqp-a_ebF"
      }
    },
    {
      "cell_type": "code",
      "execution_count": 50,
      "metadata": {
        "colab": {
          "base_uri": "https://localhost:8080/"
        },
        "outputId": "60d19043-c9e6-4261-a664-3919cbe29869",
        "id": "N7-WLVyqgZbX"
      },
      "outputs": [
        {
          "output_type": "execute_result",
          "data": {
            "text/plain": [
              "('first of allthere is a detective storylgitime dfense by belgian stanislas andr steeman whose lassassin habite au 21 clouzot had already transferred to the screen in 1942with pierre fresnay and the same actress suzy delairsteeman complained about clouzots adaptation for both moviesthe movie from 1942 was excellentbut the detective story side had been keptso why complainingas for quai des orfvresclouzot was now in a new phase of his brilliant careerafter having directed le corbeau and been blacklistedhe had a lot more to say than a simple whodunitsteeman complained essentially about the poor detective endingwhich i will not reveal of coursebut clouzot focused on the social vignetteson his characterss psychologyand he did not give a damn about the puzzle  la agatha christieby doing sohe becomes the genuine predecessor of claude chabrol who has always been closer to him than to alfred hitchcock whom he admires much though suzy delair has great screen presenceand you will love the song she really singsshe was a singer tooavec son tralalabernard blier gives as evera sparing of gestures and words performanceand he really pulls it off two characters are particularly interesting and disturbingthe first onedorathe photographershe takes pictures of female models and clouzotby subtle touchesreveals us shes a lesbianof coursethe word is never utteredhow could it be in 1947 the police chief fabulous louis jouvet tells heryou and mewe are not lucky with womenthe portrait of this cop is very detailedwe learn a lot of things about himnot necessary connected with the delairblier plothes a widower with a son he adores and who runs into school difficultiesparticularly in geometryso we get to know all the characters in depthone of the most important manifesto of postwar french cinema',\n",
              " 1)"
            ]
          },
          "metadata": {},
          "execution_count": 50
        }
      ],
      "source": [
        "test = xtest[47278]\n",
        "test, ytest[47278]"
      ]
    },
    {
      "cell_type": "code",
      "execution_count": 51,
      "metadata": {
        "id": "cBqAnIqXtzPl",
        "colab": {
          "base_uri": "https://localhost:8080/"
        },
        "outputId": "296c5d3d-06b4-4c74-edd2-2c9f7a5f6d5c"
      },
      "outputs": [
        {
          "output_type": "stream",
          "name": "stdout",
          "text": [
            "1/1 [==============================] - 0s 122ms/step\n"
          ]
        },
        {
          "output_type": "execute_result",
          "data": {
            "text/plain": [
              "array([[0.01029591]], dtype=float32)"
            ]
          },
          "metadata": {},
          "execution_count": 51
        }
      ],
      "source": [
        "test = tokenizer.texts_to_sequences(test)\n",
        "\n",
        "flat_list = []\n",
        "for sublist in test:\n",
        "  for item in sublist:\n",
        "    flat_list.append(item)\n",
        "\n",
        "flat_list = [flat_list]\n",
        "\n",
        "test = pad_sequences(flat_list, padding = 'post', maxlen = 100)\n",
        "\n",
        "model.predict(test)"
      ]
    },
    {
      "cell_type": "markdown",
      "source": [
        "0.01 < 0.5\n",
        "\n",
        "so the result is 0"
      ],
      "metadata": {
        "id": "n0C1drbX_qwM"
      }
    },
    {
      "cell_type": "markdown",
      "source": [
        "**As we can see, the model has correctly predicted 2 out of the 3 sentiments, wich is pretty good**"
      ],
      "metadata": {
        "id": "UJ8HGDt2BnRj"
      }
    }
  ],
  "metadata": {
    "accelerator": "GPU",
    "colab": {
      "provenance": []
    },
    "gpuClass": "standard",
    "kernelspec": {
      "display_name": "Python 3",
      "name": "python3"
    },
    "language_info": {
      "name": "python"
    }
  },
  "nbformat": 4,
  "nbformat_minor": 0
}